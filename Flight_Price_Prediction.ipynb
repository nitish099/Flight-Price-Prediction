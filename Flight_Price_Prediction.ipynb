{
 "cells": [
  {
   "cell_type": "markdown",
   "metadata": {},
   "source": [
    "# Flight Price Prediction"
   ]
  },
  {
   "cell_type": "markdown",
   "metadata": {},
   "source": [
    "## Problem Statement"
   ]
  },
  {
   "cell_type": "markdown",
   "metadata": {},
   "source": [
    "Flight ticket prices can be something hard to guess, today we might see a price, check out the price of the same flight tomorrow, and it will be a different story.\n",
    "To solve this problem, we have been provided with prices of flight tickets for various airlines between the months of October and December of 2021 and between various cities, using which we aim to build a model which predicts the prices of the flights using various input features."
   ]
  },
  {
   "cell_type": "markdown",
   "metadata": {},
   "source": [
    "### Importing Libraries"
   ]
  },
  {
   "cell_type": "code",
   "execution_count": 1,
   "metadata": {},
   "outputs": [],
   "source": [
    "import pandas as pd # for handling dataset\n",
    "import numpy as np  # for mathematical computation\n",
    "\n",
    "from sklearn.preprocessing import StandardScaler\n",
    "from sklearn.linear_model import LinearRegression\n",
    "from sklearn.model_selection import train_test_split,GridSearchCV,cross_val_score\n",
    "from sklearn.ensemble import RandomForestRegressor\n",
    "from sklearn.tree import DecisionTreeRegressor\n",
    "from sklearn.neighbors import KNeighborsRegressor\n",
    "from sklearn.metrics import mean_squared_error, mean_absolute_error, r2_score\n",
    "from sklearn.preprocessing import LabelEncoder\n",
    "from scipy.stats import skew\n",
    "\n",
    "# for visualization \n",
    "import plotly.express as px\n",
    "import matplotlib as mpl\n",
    "import matplotlib.pyplot as plt\n",
    "%matplotlib inline\n",
    "from matplotlib import style\n",
    "import seaborn as sns\n",
    "\n",
    "# for saving & loading model\n",
    "import pickle\n",
    "\n",
    "import warnings\n",
    "warnings.filterwarnings('ignore')"
   ]
  },
  {
   "cell_type": "code",
   "execution_count": 2,
   "metadata": {},
   "outputs": [],
   "source": [
    "# Web scrapping was done from yatra website from October to December month of year 2021. \n",
    "# The data for price was further corrected by removing semicolon from it by using flash fill in excel sheet.\n",
    "# Example : 5,953 to 5953 and rest for all others."
   ]
  },
  {
   "cell_type": "code",
   "execution_count": 3,
   "metadata": {},
   "outputs": [],
   "source": [
    "# reading the data\n",
    "df=pd.read_csv(r'E:\\webscraped_data.csv')"
   ]
  },
  {
   "cell_type": "code",
   "execution_count": 4,
   "metadata": {},
   "outputs": [
    {
     "data": {
      "text/html": [
       "<div>\n",
       "<style scoped>\n",
       "    .dataframe tbody tr th:only-of-type {\n",
       "        vertical-align: middle;\n",
       "    }\n",
       "\n",
       "    .dataframe tbody tr th {\n",
       "        vertical-align: top;\n",
       "    }\n",
       "\n",
       "    .dataframe thead th {\n",
       "        text-align: right;\n",
       "    }\n",
       "</style>\n",
       "<table border=\"1\" class=\"dataframe\">\n",
       "  <thead>\n",
       "    <tr style=\"text-align: right;\">\n",
       "      <th></th>\n",
       "      <th>Airline</th>\n",
       "      <th>Date_of_Journey</th>\n",
       "      <th>Source</th>\n",
       "      <th>Destination</th>\n",
       "      <th>Duration</th>\n",
       "      <th>Departure Time</th>\n",
       "      <th>Arrival Time</th>\n",
       "      <th>Total Stops</th>\n",
       "      <th>Price</th>\n",
       "    </tr>\n",
       "  </thead>\n",
       "  <tbody>\n",
       "    <tr>\n",
       "      <th>0</th>\n",
       "      <td>Air Asia</td>\n",
       "      <td>29-10-2021</td>\n",
       "      <td>New Delhi</td>\n",
       "      <td>Mumbai</td>\n",
       "      <td>6h 35m</td>\n",
       "      <td>09:25</td>\n",
       "      <td>16:00</td>\n",
       "      <td>1 Stop</td>\n",
       "      <td>5953</td>\n",
       "    </tr>\n",
       "    <tr>\n",
       "      <th>1</th>\n",
       "      <td>Air Asia</td>\n",
       "      <td>29-10-2021</td>\n",
       "      <td>New Delhi</td>\n",
       "      <td>Mumbai</td>\n",
       "      <td>7h 35m</td>\n",
       "      <td>12:40</td>\n",
       "      <td>20:15</td>\n",
       "      <td>1 Stop</td>\n",
       "      <td>5953</td>\n",
       "    </tr>\n",
       "    <tr>\n",
       "      <th>2</th>\n",
       "      <td>Air Asia</td>\n",
       "      <td>29-10-2021</td>\n",
       "      <td>New Delhi</td>\n",
       "      <td>Mumbai</td>\n",
       "      <td>8h 20m</td>\n",
       "      <td>11:55</td>\n",
       "      <td>20:15</td>\n",
       "      <td>1 Stop</td>\n",
       "      <td>5953</td>\n",
       "    </tr>\n",
       "    <tr>\n",
       "      <th>3</th>\n",
       "      <td>Air Asia</td>\n",
       "      <td>29-10-2021</td>\n",
       "      <td>New Delhi</td>\n",
       "      <td>Mumbai</td>\n",
       "      <td>14h 55m</td>\n",
       "      <td>05:20</td>\n",
       "      <td>20:15</td>\n",
       "      <td>1 Stop</td>\n",
       "      <td>5953</td>\n",
       "    </tr>\n",
       "    <tr>\n",
       "      <th>4</th>\n",
       "      <td>Go First</td>\n",
       "      <td>29-10-2021</td>\n",
       "      <td>New Delhi</td>\n",
       "      <td>Mumbai</td>\n",
       "      <td>1h 55m</td>\n",
       "      <td>18:50</td>\n",
       "      <td>20:45</td>\n",
       "      <td>Non Stop</td>\n",
       "      <td>5954</td>\n",
       "    </tr>\n",
       "  </tbody>\n",
       "</table>\n",
       "</div>"
      ],
      "text/plain": [
       "    Airline Date_of_Journey     Source Destination Duration Departure Time  \\\n",
       "0  Air Asia      29-10-2021  New Delhi      Mumbai   6h 35m          09:25   \n",
       "1  Air Asia      29-10-2021  New Delhi      Mumbai   7h 35m          12:40   \n",
       "2  Air Asia      29-10-2021  New Delhi      Mumbai   8h 20m          11:55   \n",
       "3  Air Asia      29-10-2021  New Delhi      Mumbai  14h 55m          05:20   \n",
       "4  Go First      29-10-2021  New Delhi      Mumbai   1h 55m          18:50   \n",
       "\n",
       "  Arrival Time Total Stops  Price  \n",
       "0        16:00      1 Stop   5953  \n",
       "1        20:15      1 Stop   5953  \n",
       "2        20:15      1 Stop   5953  \n",
       "3        20:15      1 Stop   5953  \n",
       "4        20:45    Non Stop   5954  "
      ]
     },
     "execution_count": 4,
     "metadata": {},
     "output_type": "execute_result"
    }
   ],
   "source": [
    "df.head() # to display top 5 rows from dataset"
   ]
  },
  {
   "cell_type": "markdown",
   "metadata": {},
   "source": [
    "#### Dataset Description\n",
    "\n",
    "1. Airline - Names of different flights/Airlines \n",
    "\n",
    "2. Date of Journey - Day on which journey begins (i.e to travel by flight)\n",
    "\n",
    "3. Source - City from where flight takes off \n",
    "\n",
    "4. Destination - City where flight lands\n",
    "\n",
    "5. Duration - Total time taken by flight to reach its destination (in hrs mins)\n",
    "\n",
    "6. Departure time - Time when flight takes off\n",
    "\n",
    "7. Arrival Time - Time when flight lands\n",
    "\n",
    "8. Total Stops - Number of stoppages\n",
    "\n",
    "9. Price - Flight ticket price (in inr)"
   ]
  },
  {
   "cell_type": "code",
   "execution_count": 5,
   "metadata": {},
   "outputs": [
    {
     "name": "stdout",
     "output_type": "stream",
     "text": [
      "Total no of rows & columns:  (1588, 9)\n"
     ]
    }
   ],
   "source": [
    "print('Total no of rows & columns: ',df.shape) # to check number of rows & columns"
   ]
  },
  {
   "cell_type": "code",
   "execution_count": 6,
   "metadata": {},
   "outputs": [
    {
     "name": "stdout",
     "output_type": "stream",
     "text": [
      "List of columns:  Index(['Airline', 'Date_of_Journey', 'Source', 'Destination', 'Duration',\n",
      "       'Departure Time', 'Arrival Time', 'Total Stops', 'Price'],\n",
      "      dtype='object')\n"
     ]
    }
   ],
   "source": [
    "print('List of columns: ',df.columns) # to display all the columns name in the dataset"
   ]
  },
  {
   "cell_type": "code",
   "execution_count": 7,
   "metadata": {},
   "outputs": [
    {
     "name": "stdout",
     "output_type": "stream",
     "text": [
      "<class 'pandas.core.frame.DataFrame'>\n",
      "RangeIndex: 1588 entries, 0 to 1587\n",
      "Data columns (total 9 columns):\n",
      " #   Column           Non-Null Count  Dtype \n",
      "---  ------           --------------  ----- \n",
      " 0   Airline          1588 non-null   object\n",
      " 1   Date_of_Journey  1588 non-null   object\n",
      " 2   Source           1588 non-null   object\n",
      " 3   Destination      1588 non-null   object\n",
      " 4   Duration         1588 non-null   object\n",
      " 5   Departure Time   1588 non-null   object\n",
      " 6   Arrival Time     1588 non-null   object\n",
      " 7   Total Stops      1588 non-null   object\n",
      " 8   Price            1588 non-null   int64 \n",
      "dtypes: int64(1), object(8)\n",
      "memory usage: 111.8+ KB\n"
     ]
    }
   ],
   "source": [
    "df.info() # to know datatype of each columns "
   ]
  },
  {
   "cell_type": "code",
   "execution_count": 8,
   "metadata": {},
   "outputs": [
    {
     "data": {
      "text/plain": [
       "Airline              6\n",
       "Date_of_Journey     13\n",
       "Source              13\n",
       "Destination          8\n",
       "Duration           315\n",
       "Departure Time     238\n",
       "Arrival Time       331\n",
       "Total Stops          4\n",
       "Price              687\n",
       "dtype: int64"
      ]
     },
     "execution_count": 8,
     "metadata": {},
     "output_type": "execute_result"
    }
   ],
   "source": [
    "# to count number of unique values in each columns \n",
    "df.nunique()"
   ]
  },
  {
   "cell_type": "code",
   "execution_count": 9,
   "metadata": {},
   "outputs": [
    {
     "data": {
      "text/plain": [
       "['Airline',\n",
       " 'Date_of_Journey',\n",
       " 'Source',\n",
       " 'Destination',\n",
       " 'Duration',\n",
       " 'Departure Time',\n",
       " 'Arrival Time',\n",
       " 'Total Stops']"
      ]
     },
     "execution_count": 9,
     "metadata": {},
     "output_type": "execute_result"
    }
   ],
   "source": [
    "# to list categorical features in our dataset\n",
    "cat_features=[i for i in df.columns if df.dtypes[i]=='object']\n",
    "cat_features"
   ]
  },
  {
   "cell_type": "code",
   "execution_count": 10,
   "metadata": {},
   "outputs": [
    {
     "data": {
      "text/plain": [
       "['Price']"
      ]
     },
     "execution_count": 10,
     "metadata": {},
     "output_type": "execute_result"
    }
   ],
   "source": [
    "# to list continous features in our dataset\n",
    "con_features=[i for i in df.columns if df.dtypes[i]=='int64' or df.dtypes[i]=='float64']\n",
    "con_features"
   ]
  },
  {
   "cell_type": "code",
   "execution_count": 11,
   "metadata": {},
   "outputs": [
    {
     "data": {
      "text/html": [
       "<div>\n",
       "<style scoped>\n",
       "    .dataframe tbody tr th:only-of-type {\n",
       "        vertical-align: middle;\n",
       "    }\n",
       "\n",
       "    .dataframe tbody tr th {\n",
       "        vertical-align: top;\n",
       "    }\n",
       "\n",
       "    .dataframe thead th {\n",
       "        text-align: right;\n",
       "    }\n",
       "</style>\n",
       "<table border=\"1\" class=\"dataframe\">\n",
       "  <thead>\n",
       "    <tr style=\"text-align: right;\">\n",
       "      <th></th>\n",
       "      <th>count</th>\n",
       "      <th>mean</th>\n",
       "      <th>std</th>\n",
       "      <th>min</th>\n",
       "      <th>25%</th>\n",
       "      <th>50%</th>\n",
       "      <th>75%</th>\n",
       "      <th>max</th>\n",
       "    </tr>\n",
       "  </thead>\n",
       "  <tbody>\n",
       "    <tr>\n",
       "      <th>Price</th>\n",
       "      <td>1588.0</td>\n",
       "      <td>9703.163098</td>\n",
       "      <td>4234.597613</td>\n",
       "      <td>2346.0</td>\n",
       "      <td>6777.5</td>\n",
       "      <td>8989.5</td>\n",
       "      <td>11657.0</td>\n",
       "      <td>31818.0</td>\n",
       "    </tr>\n",
       "  </tbody>\n",
       "</table>\n",
       "</div>"
      ],
      "text/plain": [
       "        count         mean          std     min     25%     50%      75%  \\\n",
       "Price  1588.0  9703.163098  4234.597613  2346.0  6777.5  8989.5  11657.0   \n",
       "\n",
       "           max  \n",
       "Price  31818.0  "
      ]
     },
     "execution_count": 11,
     "metadata": {},
     "output_type": "execute_result"
    }
   ],
   "source": [
    "df.describe().T # to get high understanding of dataset or to get overview/stats of the dataset"
   ]
  },
  {
   "cell_type": "code",
   "execution_count": 12,
   "metadata": {},
   "outputs": [
    {
     "data": {
      "image/png": "[encoded data removed]",
      "text/plain": [
       "<Figure size 864x288 with 2 Axes>"
      ]
     },
     "metadata": {
      "needs_background": "light"
     },
     "output_type": "display_data"
    }
   ],
   "source": [
    "plt.figure(figsize=(12,4))\n",
    "sns.heatmap(round(df.describe()[1:].transpose(),2),linewidth=2,annot=True,fmt='f')\n",
    "plt.xticks(fontsize=18)\n",
    "plt.yticks(fontsize=12)\n",
    "plt.title(\"Variables summary\")\n",
    "plt.show()"
   ]
  },
  {
   "cell_type": "code",
   "execution_count": 13,
   "metadata": {},
   "outputs": [
    {
     "data": {
      "text/plain": [
       "Airline            0\n",
       "Date_of_Journey    0\n",
       "Source             0\n",
       "Destination        0\n",
       "Duration           0\n",
       "Departure Time     0\n",
       "Arrival Time       0\n",
       "Total Stops        0\n",
       "Price              0\n",
       "dtype: int64"
      ]
     },
     "execution_count": 13,
     "metadata": {},
     "output_type": "execute_result"
    }
   ],
   "source": [
    "df.isnull().sum()  # to check null values"
   ]
  },
  {
   "cell_type": "markdown",
   "metadata": {},
   "source": [
    "#### No null values in the dataset"
   ]
  },
  {
   "cell_type": "code",
   "execution_count": 14,
   "metadata": {},
   "outputs": [
    {
     "data": {
      "text/plain": [
       "array(['29-10-2021', '30-10-2021', '31-10-2021', '02-11-2021',\n",
       "       '05-11-2021', '08-11-2021', '11-11-2021', '10-11-2021',\n",
       "       '27-11-2021', '29-11-2021', '13-12-2021', '10-12-2021',\n",
       "       '30-12-2021'], dtype=object)"
      ]
     },
     "execution_count": 14,
     "metadata": {},
     "output_type": "execute_result"
    }
   ],
   "source": [
    "# to check format of date of journey\n",
    "df['Date_of_Journey'].unique()"
   ]
  },
  {
   "cell_type": "markdown",
   "metadata": {},
   "source": [
    "#### From the above output column we know that Date_of_Journey is a object data type."
   ]
  },
  {
   "cell_type": "code",
   "execution_count": 15,
   "metadata": {},
   "outputs": [],
   "source": [
    "# Converting Date_of_Journey format into timestamp so as to use this column properly for prediction.\n",
    "df['Date_of_Journey']=df['Date_of_Journey'].replace('29-10-2021','29/10/2021',regex=True)\n",
    "df['Date_of_Journey']=df['Date_of_Journey'].replace('30-10-2021','30/10/2021',regex=True)\n",
    "df['Date_of_Journey']=df['Date_of_Journey'].replace('31-10-2021','31/10/2021',regex=True)\n",
    "df['Date_of_Journey']=df['Date_of_Journey'].replace('02-11-2021','02/11/2021',regex=True)\n",
    "df['Date_of_Journey']=df['Date_of_Journey'].replace('05-11-2021','05/11/2021',regex=True)\n",
    "df['Date_of_Journey']=df['Date_of_Journey'].replace('08-11-2021','08/11/2021',regex=True)\n",
    "df['Date_of_Journey']=df['Date_of_Journey'].replace('11-11-2021','11/11/2021',regex=True)\n",
    "df['Date_of_Journey']=df['Date_of_Journey'].replace('10-11-2021','10/11/2021',regex=True)\n",
    "df['Date_of_Journey']=df['Date_of_Journey'].replace('27-11-2021','27/11/2021',regex=True)\n",
    "df['Date_of_Journey']=df['Date_of_Journey'].replace('29-11-2021','29/11/2021',regex=True)\n",
    "df['Date_of_Journey']=df['Date_of_Journey'].replace('13-12-2021','13/12/2021',regex=True)\n",
    "df['Date_of_Journey']=df['Date_of_Journey'].replace('10-12-2021','10/12/2021',regex=True)\n",
    "df['Date_of_Journey']=df['Date_of_Journey'].replace('30-12-2021','30/12/2021',regex=True)"
   ]
  },
  {
   "cell_type": "code",
   "execution_count": 16,
   "metadata": {},
   "outputs": [
    {
     "data": {
      "text/plain": [
       "array(['29/10/2021', '30/10/2021', '31/10/2021', '02/11/2021',\n",
       "       '05/11/2021', '08/11/2021', '11/11/2021', '10/11/2021',\n",
       "       '27/11/2021', '29/11/2021', '13/12/2021', '10/12/2021',\n",
       "       '30/12/2021'], dtype=object)"
      ]
     },
     "execution_count": 16,
     "metadata": {},
     "output_type": "execute_result"
    }
   ],
   "source": [
    "# checking the format again\n",
    "df['Date_of_Journey'].unique()"
   ]
  },
  {
   "cell_type": "code",
   "execution_count": 17,
   "metadata": {},
   "outputs": [],
   "source": [
    "# converting object data type to datetime object.\n",
    "df['Journey_Day'] = pd.to_datetime(df.Date_of_Journey, format=\"%d/%m/%Y\").dt.day\n",
    "df['Journey_Month'] = pd.to_datetime(df[\"Date_of_Journey\"], format=\"%d/%m/%Y\").dt.month"
   ]
  },
  {
   "cell_type": "code",
   "execution_count": 18,
   "metadata": {},
   "outputs": [],
   "source": [
    "# dropping the original column\n",
    "df=df.drop(columns='Date_of_Journey')"
   ]
  },
  {
   "cell_type": "code",
   "execution_count": 19,
   "metadata": {},
   "outputs": [],
   "source": [
    "# Extracting the hours and minutes from departure time column and afterwards we will drop the original column.\n",
    "df[\"Dep_hour\"] = pd.to_datetime(df['Departure Time']).dt.hour\n",
    "df['Dep_min'] = pd.to_datetime(df['Departure Time']).dt.minute\n",
    "df.drop(columns=['Departure Time'],inplace=True)"
   ]
  },
  {
   "cell_type": "code",
   "execution_count": 20,
   "metadata": {},
   "outputs": [],
   "source": [
    "# Extracting the hours and minutes from Arrival time column and afterwards we will drop the original column.\n",
    "df[\"Arrival_hour\"] = pd.to_datetime(df['Arrival Time']).dt.hour\n",
    "df['Arrival_min'] = pd.to_datetime(df['Arrival Time']).dt.minute\n",
    "df.drop(columns=['Arrival Time'],inplace=True)"
   ]
  },
  {
   "cell_type": "code",
   "execution_count": 21,
   "metadata": {},
   "outputs": [],
   "source": [
    "# Feature engineering on Duration column\n",
    "\n",
    "Duration = list(df['Duration'])\n",
    "\n",
    "for i in range(len(Duration)):\n",
    "    if len(Duration[i].split()) != 2:\n",
    "        if \"h\" in Duration[i]:\n",
    "            Duration[i] = Duration[i].strip() + \" 0m\"\n",
    "        else:\n",
    "            Duration[i] = \"0h \" + Duration[i]\n",
    "\n",
    "Duration_hours = []\n",
    "Duration_mins = []\n",
    "\n",
    "for i in range(len(Duration)):\n",
    "    Duration_hours.append(int(Duration[i].split(sep='h')[0]))\n",
    "    Duration_mins.append(int(Duration[i].split(sep='m')[0].split()[-1]))"
   ]
  },
  {
   "cell_type": "code",
   "execution_count": 22,
   "metadata": {},
   "outputs": [],
   "source": [
    "# Storing the hours and minutes into dataframe and afterwards we will remove the original column.\n",
    "df['Duration_hours'] = Duration_hours\n",
    "df['Duration_mins'] = Duration_mins\n",
    "df.drop(columns=['Duration'],inplace=True)"
   ]
  },
  {
   "cell_type": "code",
   "execution_count": 23,
   "metadata": {},
   "outputs": [],
   "source": [
    "# categorizing hours into times of day\n",
    "def tod(x):                    # defining function times of day as tod\n",
    "    if (x > 4) and (x <= 8):\n",
    "        return 'Early Morning'\n",
    "    elif (x > 8) and (x <= 12 ):\n",
    "        return 'Morning'\n",
    "    elif (x > 12) and (x <= 16):\n",
    "        return'Noon'\n",
    "    elif (x > 16) and (x <= 20) :\n",
    "        return 'Evening'\n",
    "    elif (x > 20) and (x <= 24):\n",
    "        return'Night'\n",
    "    elif (x <= 4):\n",
    "        return'Late Night'"
   ]
  },
  {
   "cell_type": "code",
   "execution_count": 24,
   "metadata": {},
   "outputs": [],
   "source": [
    "# applying the condition \n",
    "df['Arrival_Times_of_day']=df['Arrival_hour'].apply(tod)\n",
    "df.drop(['Arrival_hour'],axis=1,inplace=True)"
   ]
  },
  {
   "cell_type": "code",
   "execution_count": 25,
   "metadata": {},
   "outputs": [
    {
     "data": {
      "text/plain": [
       "array(['Noon', 'Evening', 'Morning', 'Early Morning', 'Night',\n",
       "       'Late Night'], dtype=object)"
      ]
     },
     "execution_count": 25,
     "metadata": {},
     "output_type": "execute_result"
    }
   ],
   "source": [
    "# checking after categorizing\n",
    "df['Arrival_Times_of_day'].unique()"
   ]
  },
  {
   "cell_type": "code",
   "execution_count": 26,
   "metadata": {},
   "outputs": [
    {
     "data": {
      "text/plain": [
       "array([10, 11, 12], dtype=int64)"
      ]
     },
     "execution_count": 26,
     "metadata": {},
     "output_type": "execute_result"
    }
   ],
   "source": [
    "# to know all type of unique values present in the column\n",
    "df['Journey_Month'].unique()"
   ]
  },
  {
   "cell_type": "code",
   "execution_count": 27,
   "metadata": {},
   "outputs": [],
   "source": [
    "# categorizing months into object\n",
    "def month(x):                    # defining function Journey month as month\n",
    "    if (x==10):\n",
    "        return 'October'\n",
    "    elif (x==11 ):\n",
    "        return 'November'\n",
    "    elif (x==12):\n",
    "        return'December'"
   ]
  },
  {
   "cell_type": "code",
   "execution_count": 28,
   "metadata": {},
   "outputs": [],
   "source": [
    "# applying the condition \n",
    "df['Journey Month']=df['Journey_Month'].apply(month)\n",
    "df.drop(['Journey_Month'],axis=1,inplace=True)"
   ]
  },
  {
   "cell_type": "code",
   "execution_count": 29,
   "metadata": {},
   "outputs": [
    {
     "data": {
      "text/plain": [
       "array(['October', 'November', 'December'], dtype=object)"
      ]
     },
     "execution_count": 29,
     "metadata": {},
     "output_type": "execute_result"
    }
   ],
   "source": [
    "# checking after categorizing\n",
    "df['Journey Month'].unique()"
   ]
  },
  {
   "cell_type": "code",
   "execution_count": null,
   "metadata": {},
   "outputs": [],
   "source": []
  },
  {
   "cell_type": "markdown",
   "metadata": {},
   "source": [
    "## Univariate Analysis"
   ]
  },
  {
   "cell_type": "code",
   "execution_count": 30,
   "metadata": {},
   "outputs": [
    {
     "data": {
      "image/png": "[encoded data removed]",
      "text/plain": [
       "<Figure size 432x288 with 1 Axes>"
      ]
     },
     "metadata": {
      "needs_background": "light"
     },
     "output_type": "display_data"
    }
   ],
   "source": [
    "# to visualize 'Airline' column\n",
    "df.groupby('Airline')['Airline'].count().plot(kind='barh')\n",
    "plt.show()"
   ]
  },
  {
   "cell_type": "markdown",
   "metadata": {},
   "source": [
    "#### Indigo flights will be available more from Oct-Dec month and Spicejet flights would be less available."
   ]
  },
  {
   "cell_type": "code",
   "execution_count": 31,
   "metadata": {},
   "outputs": [
    {
     "data": {
      "image/png": "[encoded data removed]",
      "text/plain": [
       "<Figure size 1008x432 with 1 Axes>"
      ]
     },
     "metadata": {
      "needs_background": "light"
     },
     "output_type": "display_data"
    }
   ],
   "source": [
    "# to visualize Source column\n",
    "plt.figure(figsize=(14,6))\n",
    "sns.countplot('Source',data=df,palette='Set1')\n",
    "plt.tight_layout()"
   ]
  },
  {
   "cell_type": "markdown",
   "metadata": {},
   "source": [
    "#### Mostly flights will take off from New Delhi and least from Ranchi in Oct-Dec month according to the data scraped."
   ]
  },
  {
   "cell_type": "code",
   "execution_count": 32,
   "metadata": {},
   "outputs": [
    {
     "data": {
      "image/png": "[encoded data removed]",
      "text/plain": [
       "<Figure size 864x360 with 1 Axes>"
      ]
     },
     "metadata": {
      "needs_background": "light"
     },
     "output_type": "display_data"
    }
   ],
   "source": [
    "# to visualize Destination column\n",
    "plt.figure(figsize=(12,5))\n",
    "sns.countplot('Destination',data=df,palette='Set2')\n",
    "plt.title('Flight Destination')\n",
    "plt.tight_layout()"
   ]
  },
  {
   "cell_type": "markdown",
   "metadata": {},
   "source": [
    "#### Maximum flights will land at Bangalore and least flights will land at Chennai according to the data scraped."
   ]
  },
  {
   "cell_type": "code",
   "execution_count": 33,
   "metadata": {},
   "outputs": [
    {
     "data": {
      "text/plain": [
       "Text(0.5, 0, 'Number of Stoppages')"
      ]
     },
     "execution_count": 33,
     "metadata": {},
     "output_type": "execute_result"
    },
    {
     "data": {
      "image/png": "[encoded data removed]",
      "text/plain": [
       "<Figure size 720x288 with 1 Axes>"
      ]
     },
     "metadata": {
      "needs_background": "light"
     },
     "output_type": "display_data"
    }
   ],
   "source": [
    "# to visualize the Total Stoppage column \n",
    "plt.figure(figsize=(10,4))\n",
    "sns.countplot(x='Total Stops',data=df)\n",
    "plt.xlabel('Number of Stoppages')"
   ]
  },
  {
   "cell_type": "markdown",
   "metadata": {},
   "source": [
    "#### Maximum number of stoppages is only one for various routes(i.e source-destination)."
   ]
  },
  {
   "cell_type": "code",
   "execution_count": null,
   "metadata": {},
   "outputs": [],
   "source": []
  },
  {
   "cell_type": "markdown",
   "metadata": {},
   "source": [
    "## Bivariate Analysis"
   ]
  },
  {
   "cell_type": "code",
   "execution_count": 35,
   "metadata": {},
   "outputs": [
    {
     "data": {
      "image/png": "[encoded data removed]",
      "text/plain": [
       "<Figure size 864x360 with 1 Axes>"
      ]
     },
     "metadata": {
      "needs_background": "light"
     },
     "output_type": "display_data"
    }
   ],
   "source": [
    "plt.figure(figsize=(12,5))\n",
    "sns.boxplot(y='Airline', x='Price',data=df)\n",
    "plt.tight_layout()"
   ]
  },
  {
   "cell_type": "markdown",
   "metadata": {},
   "source": [
    "#### Air India flight price is costlier than other airlines for month of Oct-Dec 2021."
   ]
  },
  {
   "cell_type": "code",
   "execution_count": 36,
   "metadata": {},
   "outputs": [
    {
     "data": {
      "image/png": "[encoded data removed]",
      "text/plain": [
       "<Figure size 864x360 with 1 Axes>"
      ]
     },
     "metadata": {
      "needs_background": "light"
     },
     "output_type": "display_data"
    }
   ],
   "source": [
    "plt.figure(figsize=(12,5))\n",
    "sns.barplot(y='Source', x='Price',data=df)\n",
    "plt.tight_layout()"
   ]
  },
  {
   "cell_type": "markdown",
   "metadata": {},
   "source": [
    "#### The price of flight ticket from Chennai is much high than other cities."
   ]
  },
  {
   "cell_type": "code",
   "execution_count": 37,
   "metadata": {},
   "outputs": [
    {
     "data": {
      "image/png": "[encoded data removed]",
      "text/plain": [
       "<Figure size 720x288 with 1 Axes>"
      ]
     },
     "metadata": {
      "needs_background": "light"
     },
     "output_type": "display_data"
    }
   ],
   "source": [
    "# to visualize 'Arrival_Times_of_day' vs 'Price'\n",
    "plt.figure(figsize=(10,4))\n",
    "sns.boxplot(y='Arrival_Times_of_day',x='Price',data=df)\n",
    "plt.tight_layout()"
   ]
  },
  {
   "cell_type": "markdown",
   "metadata": {},
   "source": [
    "#### Price of flight ticket in evening & early morning is costlier and cheap in night when boarding to destination."
   ]
  },
  {
   "cell_type": "code",
   "execution_count": 38,
   "metadata": {},
   "outputs": [
    {
     "data": {
      "image/png": "[encoded data removed]",
      "text/plain": [
       "<Figure size 432x288 with 1 Axes>"
      ]
     },
     "metadata": {
      "needs_background": "light"
     },
     "output_type": "display_data"
    }
   ],
   "source": [
    "# to visualize 'Total Stops' vs 'Price'\n",
    "sns.barplot(x='Total Stops',y='Price',data=df)\n",
    "plt.tight_layout()"
   ]
  },
  {
   "cell_type": "markdown",
   "metadata": {},
   "source": [
    "#### Price of flight ticket increases with increase in number of stoppages. "
   ]
  },
  {
   "cell_type": "code",
   "execution_count": 39,
   "metadata": {},
   "outputs": [
    {
     "data": {
      "image/png": "[encoded data removed]",
      "text/plain": [
       "<Figure size 432x288 with 1 Axes>"
      ]
     },
     "metadata": {
      "needs_background": "light"
     },
     "output_type": "display_data"
    }
   ],
   "source": [
    "# to visualize 'Total Stops' vs 'Price'\n",
    "sns.barplot(x='Journey Month',y='Price',data=df)\n",
    "plt.tight_layout()"
   ]
  },
  {
   "cell_type": "markdown",
   "metadata": {},
   "source": [
    "#### Price of flight ticket decreases with increase in month (i.e You will get ticket at low cost price if you book your ticket earlier)"
   ]
  },
  {
   "cell_type": "code",
   "execution_count": 40,
   "metadata": {},
   "outputs": [
    {
     "data": {
      "image/png": "[encoded data removed]",
      "text/plain": [
       "<Figure size 1008x288 with 1 Axes>"
      ]
     },
     "metadata": {
      "needs_background": "light"
     },
     "output_type": "display_data"
    }
   ],
   "source": [
    "# to visualize 'Duration hours' vs 'Price'\n",
    "plt.figure(figsize=(14,4))\n",
    "sns.barplot(x='Duration_hours',y='Price',data=df)\n",
    "plt.tight_layout()"
   ]
  },
  {
   "cell_type": "markdown",
   "metadata": {},
   "source": [
    "#### Maximum the duration of time taken by the flight to reach its destination , higher will be the ticket price."
   ]
  },
  {
   "cell_type": "code",
   "execution_count": null,
   "metadata": {},
   "outputs": [],
   "source": []
  },
  {
   "cell_type": "code",
   "execution_count": 42,
   "metadata": {},
   "outputs": [],
   "source": [
    "last_column = df.pop('Price')\n",
    "df.insert(12, 'Price', last_column)  # inserting price at the last column as its our target/label"
   ]
  },
  {
   "cell_type": "code",
   "execution_count": 43,
   "metadata": {},
   "outputs": [
    {
     "data": {
      "text/html": [
       "<div>\n",
       "<style scoped>\n",
       "    .dataframe tbody tr th:only-of-type {\n",
       "        vertical-align: middle;\n",
       "    }\n",
       "\n",
       "    .dataframe tbody tr th {\n",
       "        vertical-align: top;\n",
       "    }\n",
       "\n",
       "    .dataframe thead th {\n",
       "        text-align: right;\n",
       "    }\n",
       "</style>\n",
       "<table border=\"1\" class=\"dataframe\">\n",
       "  <thead>\n",
       "    <tr style=\"text-align: right;\">\n",
       "      <th></th>\n",
       "      <th>Airline</th>\n",
       "      <th>Source</th>\n",
       "      <th>Destination</th>\n",
       "      <th>Total Stops</th>\n",
       "      <th>Journey_Day</th>\n",
       "      <th>Dep_hour</th>\n",
       "      <th>Dep_min</th>\n",
       "      <th>Arrival_min</th>\n",
       "      <th>Duration_hours</th>\n",
       "      <th>Duration_mins</th>\n",
       "      <th>Arrival_Times_of_day</th>\n",
       "      <th>Journey Month</th>\n",
       "      <th>Price</th>\n",
       "    </tr>\n",
       "  </thead>\n",
       "  <tbody>\n",
       "    <tr>\n",
       "      <th>0</th>\n",
       "      <td>Air Asia</td>\n",
       "      <td>New Delhi</td>\n",
       "      <td>Mumbai</td>\n",
       "      <td>1 Stop</td>\n",
       "      <td>29</td>\n",
       "      <td>9</td>\n",
       "      <td>25</td>\n",
       "      <td>0</td>\n",
       "      <td>6</td>\n",
       "      <td>35</td>\n",
       "      <td>Noon</td>\n",
       "      <td>October</td>\n",
       "      <td>5953</td>\n",
       "    </tr>\n",
       "    <tr>\n",
       "      <th>1</th>\n",
       "      <td>Air Asia</td>\n",
       "      <td>New Delhi</td>\n",
       "      <td>Mumbai</td>\n",
       "      <td>1 Stop</td>\n",
       "      <td>29</td>\n",
       "      <td>12</td>\n",
       "      <td>40</td>\n",
       "      <td>15</td>\n",
       "      <td>7</td>\n",
       "      <td>35</td>\n",
       "      <td>Evening</td>\n",
       "      <td>October</td>\n",
       "      <td>5953</td>\n",
       "    </tr>\n",
       "    <tr>\n",
       "      <th>2</th>\n",
       "      <td>Air Asia</td>\n",
       "      <td>New Delhi</td>\n",
       "      <td>Mumbai</td>\n",
       "      <td>1 Stop</td>\n",
       "      <td>29</td>\n",
       "      <td>11</td>\n",
       "      <td>55</td>\n",
       "      <td>15</td>\n",
       "      <td>8</td>\n",
       "      <td>20</td>\n",
       "      <td>Evening</td>\n",
       "      <td>October</td>\n",
       "      <td>5953</td>\n",
       "    </tr>\n",
       "    <tr>\n",
       "      <th>3</th>\n",
       "      <td>Air Asia</td>\n",
       "      <td>New Delhi</td>\n",
       "      <td>Mumbai</td>\n",
       "      <td>1 Stop</td>\n",
       "      <td>29</td>\n",
       "      <td>5</td>\n",
       "      <td>20</td>\n",
       "      <td>15</td>\n",
       "      <td>14</td>\n",
       "      <td>55</td>\n",
       "      <td>Evening</td>\n",
       "      <td>October</td>\n",
       "      <td>5953</td>\n",
       "    </tr>\n",
       "    <tr>\n",
       "      <th>4</th>\n",
       "      <td>Go First</td>\n",
       "      <td>New Delhi</td>\n",
       "      <td>Mumbai</td>\n",
       "      <td>Non Stop</td>\n",
       "      <td>29</td>\n",
       "      <td>18</td>\n",
       "      <td>50</td>\n",
       "      <td>45</td>\n",
       "      <td>1</td>\n",
       "      <td>55</td>\n",
       "      <td>Evening</td>\n",
       "      <td>October</td>\n",
       "      <td>5954</td>\n",
       "    </tr>\n",
       "  </tbody>\n",
       "</table>\n",
       "</div>"
      ],
      "text/plain": [
       "    Airline     Source Destination Total Stops  Journey_Day  Dep_hour  \\\n",
       "0  Air Asia  New Delhi      Mumbai      1 Stop           29         9   \n",
       "1  Air Asia  New Delhi      Mumbai      1 Stop           29        12   \n",
       "2  Air Asia  New Delhi      Mumbai      1 Stop           29        11   \n",
       "3  Air Asia  New Delhi      Mumbai      1 Stop           29         5   \n",
       "4  Go First  New Delhi      Mumbai    Non Stop           29        18   \n",
       "\n",
       "   Dep_min  Arrival_min  Duration_hours  Duration_mins Arrival_Times_of_day  \\\n",
       "0       25            0               6             35                 Noon   \n",
       "1       40           15               7             35              Evening   \n",
       "2       55           15               8             20              Evening   \n",
       "3       20           15              14             55              Evening   \n",
       "4       50           45               1             55              Evening   \n",
       "\n",
       "  Journey Month  Price  \n",
       "0       October   5953  \n",
       "1       October   5953  \n",
       "2       October   5953  \n",
       "3       October   5953  \n",
       "4       October   5954  "
      ]
     },
     "execution_count": 43,
     "metadata": {},
     "output_type": "execute_result"
    }
   ],
   "source": [
    "df.head()"
   ]
  },
  {
   "cell_type": "code",
   "execution_count": 44,
   "metadata": {},
   "outputs": [],
   "source": [
    "from sklearn.preprocessing import LabelEncoder"
   ]
  },
  {
   "cell_type": "code",
   "execution_count": 45,
   "metadata": {},
   "outputs": [],
   "source": [
    "# converting objects into integers of data\n",
    "lab_enc = LabelEncoder()\n",
    "list1 = ['Airline', 'Source', 'Destination','Total Stops','Arrival_Times_of_day','Journey Month']\n",
    "for val in list1:\n",
    "    df[val] = lab_enc.fit_transform(df[val].astype(str))"
   ]
  },
  {
   "cell_type": "code",
   "execution_count": 46,
   "metadata": {},
   "outputs": [
    {
     "data": {
      "text/html": [
       "<div>\n",
       "<style scoped>\n",
       "    .dataframe tbody tr th:only-of-type {\n",
       "        vertical-align: middle;\n",
       "    }\n",
       "\n",
       "    .dataframe tbody tr th {\n",
       "        vertical-align: top;\n",
       "    }\n",
       "\n",
       "    .dataframe thead th {\n",
       "        text-align: right;\n",
       "    }\n",
       "</style>\n",
       "<table border=\"1\" class=\"dataframe\">\n",
       "  <thead>\n",
       "    <tr style=\"text-align: right;\">\n",
       "      <th></th>\n",
       "      <th>Airline</th>\n",
       "      <th>Source</th>\n",
       "      <th>Destination</th>\n",
       "      <th>Total Stops</th>\n",
       "      <th>Journey_Day</th>\n",
       "      <th>Dep_hour</th>\n",
       "      <th>Dep_min</th>\n",
       "      <th>Arrival_min</th>\n",
       "      <th>Duration_hours</th>\n",
       "      <th>Duration_mins</th>\n",
       "      <th>Arrival_Times_of_day</th>\n",
       "      <th>Journey Month</th>\n",
       "      <th>Price</th>\n",
       "    </tr>\n",
       "  </thead>\n",
       "  <tbody>\n",
       "    <tr>\n",
       "      <th>0</th>\n",
       "      <td>0</td>\n",
       "      <td>10</td>\n",
       "      <td>6</td>\n",
       "      <td>0</td>\n",
       "      <td>29</td>\n",
       "      <td>9</td>\n",
       "      <td>25</td>\n",
       "      <td>0</td>\n",
       "      <td>6</td>\n",
       "      <td>35</td>\n",
       "      <td>5</td>\n",
       "      <td>2</td>\n",
       "      <td>5953</td>\n",
       "    </tr>\n",
       "    <tr>\n",
       "      <th>1</th>\n",
       "      <td>0</td>\n",
       "      <td>10</td>\n",
       "      <td>6</td>\n",
       "      <td>0</td>\n",
       "      <td>29</td>\n",
       "      <td>12</td>\n",
       "      <td>40</td>\n",
       "      <td>15</td>\n",
       "      <td>7</td>\n",
       "      <td>35</td>\n",
       "      <td>1</td>\n",
       "      <td>2</td>\n",
       "      <td>5953</td>\n",
       "    </tr>\n",
       "    <tr>\n",
       "      <th>2</th>\n",
       "      <td>0</td>\n",
       "      <td>10</td>\n",
       "      <td>6</td>\n",
       "      <td>0</td>\n",
       "      <td>29</td>\n",
       "      <td>11</td>\n",
       "      <td>55</td>\n",
       "      <td>15</td>\n",
       "      <td>8</td>\n",
       "      <td>20</td>\n",
       "      <td>1</td>\n",
       "      <td>2</td>\n",
       "      <td>5953</td>\n",
       "    </tr>\n",
       "    <tr>\n",
       "      <th>3</th>\n",
       "      <td>0</td>\n",
       "      <td>10</td>\n",
       "      <td>6</td>\n",
       "      <td>0</td>\n",
       "      <td>29</td>\n",
       "      <td>5</td>\n",
       "      <td>20</td>\n",
       "      <td>15</td>\n",
       "      <td>14</td>\n",
       "      <td>55</td>\n",
       "      <td>1</td>\n",
       "      <td>2</td>\n",
       "      <td>5953</td>\n",
       "    </tr>\n",
       "    <tr>\n",
       "      <th>4</th>\n",
       "      <td>2</td>\n",
       "      <td>10</td>\n",
       "      <td>6</td>\n",
       "      <td>3</td>\n",
       "      <td>29</td>\n",
       "      <td>18</td>\n",
       "      <td>50</td>\n",
       "      <td>45</td>\n",
       "      <td>1</td>\n",
       "      <td>55</td>\n",
       "      <td>1</td>\n",
       "      <td>2</td>\n",
       "      <td>5954</td>\n",
       "    </tr>\n",
       "  </tbody>\n",
       "</table>\n",
       "</div>"
      ],
      "text/plain": [
       "   Airline  Source  Destination  Total Stops  Journey_Day  Dep_hour  Dep_min  \\\n",
       "0        0      10            6            0           29         9       25   \n",
       "1        0      10            6            0           29        12       40   \n",
       "2        0      10            6            0           29        11       55   \n",
       "3        0      10            6            0           29         5       20   \n",
       "4        2      10            6            3           29        18       50   \n",
       "\n",
       "   Arrival_min  Duration_hours  Duration_mins  Arrival_Times_of_day  \\\n",
       "0            0               6             35                     5   \n",
       "1           15               7             35                     1   \n",
       "2           15               8             20                     1   \n",
       "3           15              14             55                     1   \n",
       "4           45               1             55                     1   \n",
       "\n",
       "   Journey Month  Price  \n",
       "0              2   5953  \n",
       "1              2   5953  \n",
       "2              2   5953  \n",
       "3              2   5953  \n",
       "4              2   5954  "
      ]
     },
     "execution_count": 46,
     "metadata": {},
     "output_type": "execute_result"
    }
   ],
   "source": [
    "# checking if all features has transformed into machine language\n",
    "df.head()"
   ]
  },
  {
   "cell_type": "code",
   "execution_count": 48,
   "metadata": {},
   "outputs": [
    {
     "data": {
      "image/png": "[encoded data removed]",
      "text/plain": [
       "<Figure size 864x432 with 11 Axes>"
      ]
     },
     "metadata": {},
     "output_type": "display_data"
    }
   ],
   "source": [
    "# to visualize columns\n",
    "plt.figure(figsize=(12,6), facecolor='white')\n",
    "plotnumber=1\n",
    "for column in df:\n",
    "    if plotnumber<=11:\n",
    "        ax=plt.subplot(4,3,plotnumber)\n",
    "        sns.distplot(df[column])\n",
    "        plt.xlabel(column,fontsize=10)\n",
    "    plotnumber+=1\n",
    "plt.tight_layout()"
   ]
  },
  {
   "cell_type": "markdown",
   "metadata": {},
   "source": [
    "#### Skewness can be seen in Duration hour feature"
   ]
  },
  {
   "cell_type": "code",
   "execution_count": 49,
   "metadata": {},
   "outputs": [
    {
     "data": {
      "image/png": "[encoded data removed]",
      "text/plain": [
       "<Figure size 1152x1008 with 11 Axes>"
      ]
     },
     "metadata": {
      "needs_background": "light"
     },
     "output_type": "display_data"
    }
   ],
   "source": [
    "# Lets visualize the columns in boxplot to check outliers\n",
    "plt.figure(figsize=(16,14))\n",
    "plot=1\n",
    "for col in df:\n",
    "    if plot<=11:\n",
    "        plt.subplot(4,3,plot)\n",
    "        sns.boxplot(df[col])\n",
    "        plt.xlabel(col,fontsize=12)\n",
    "        plot=plot+1\n",
    "plt.tight_layout()"
   ]
  },
  {
   "cell_type": "code",
   "execution_count": 50,
   "metadata": {},
   "outputs": [],
   "source": [
    "# Using 1.5 IQR method to remove outliers\n",
    "\n",
    "def outlier(df,col):\n",
    "    lower_boundary=df[col].mean()-1.5*df[col].std()\n",
    "    upper_boundary=df[col].mean()+1.5*df[col].std()\n",
    "    print(lower_boundary,upper_boundary)\n",
    "    df.loc[df[col]> upper_boundary,col] = upper_boundary\n",
    "    df.loc[df[col]<lower_boundary,col]=lower_boundary"
   ]
  },
  {
   "cell_type": "code",
   "execution_count": 51,
   "metadata": {},
   "outputs": [
    {
     "name": "stdout",
     "output_type": "stream",
     "text": [
      "-0.6318867322297272 22.974456001751136\n"
     ]
    }
   ],
   "source": [
    "outlier(df,'Duration_hours')"
   ]
  },
  {
   "cell_type": "code",
   "execution_count": 52,
   "metadata": {},
   "outputs": [
    {
     "data": {
      "text/plain": [
       "<AxesSubplot:xlabel='Duration_hours'>"
      ]
     },
     "execution_count": 52,
     "metadata": {},
     "output_type": "execute_result"
    },
    {
     "data": {
      "image/png": "[encoded data removed]",
      "text/plain": [
       "<Figure size 432x288 with 1 Axes>"
      ]
     },
     "metadata": {
      "needs_background": "light"
     },
     "output_type": "display_data"
    }
   ],
   "source": [
    "# After removal of outlier\n",
    "sns.boxplot(df['Duration_hours'])"
   ]
  },
  {
   "cell_type": "code",
   "execution_count": 53,
   "metadata": {},
   "outputs": [
    {
     "name": "stdout",
     "output_type": "stream",
     "text": [
      "Airline\n",
      "0.03392505793867277\n",
      "Source\n",
      "-0.33145398295922995\n",
      "Destination\n",
      "-0.2071313242584327\n",
      "Total Stops\n",
      "1.5474184224645302\n",
      "Journey_Day\n",
      "-0.39376559715926607\n",
      "Dep_hour\n",
      "0.11962093693899582\n",
      "Dep_min\n",
      "-0.03588100969534525\n",
      "Arrival_min\n",
      "-0.020597133245571688\n",
      "Duration_hours\n",
      "0.585954945958042\n",
      "Duration_mins\n",
      "0.028652769366026384\n",
      "Arrival_Times_of_day\n",
      "-0.15201286719447926\n",
      "Journey Month\n",
      "-0.2434539313214375\n",
      "Price\n",
      "1.477225966050321\n"
     ]
    }
   ],
   "source": [
    "# to see skewness for every column stored in the data\n",
    "for col in df:\n",
    "    print(col)\n",
    "    print(skew(df[col]))"
   ]
  },
  {
   "cell_type": "code",
   "execution_count": 54,
   "metadata": {},
   "outputs": [],
   "source": [
    "# Applying log transformation to remove skewness\n",
    "for col in df.columns:\n",
    "    if df.skew().loc[col]>0.55:\n",
    "        df[col]=np.log1p(df[col])"
   ]
  },
  {
   "cell_type": "code",
   "execution_count": 55,
   "metadata": {},
   "outputs": [
    {
     "data": {
      "image/png": "[encoded data removed]",
      "text/plain": [
       "<Figure size 1440x720 with 2 Axes>"
      ]
     },
     "metadata": {
      "needs_background": "light"
     },
     "output_type": "display_data"
    }
   ],
   "source": [
    "# plotting heatmap to observe the correlation\n",
    "plt.figure(figsize=(20,10))\n",
    "sns.heatmap(df.corr(), annot=True, vmin=-1.0, vmax=1.0)\n",
    "plt.show()"
   ]
  },
  {
   "cell_type": "markdown",
   "metadata": {},
   "source": [
    "#### Duration hour and Journey Month are positively correlated with the target (price) variable."
   ]
  },
  {
   "cell_type": "code",
   "execution_count": 56,
   "metadata": {},
   "outputs": [],
   "source": [
    "y = df['Price']\n",
    "X = df.drop('Price', axis = 1)"
   ]
  },
  {
   "cell_type": "code",
   "execution_count": 57,
   "metadata": {},
   "outputs": [],
   "source": [
    "# Data Scaling.  Formula Z=(x-mean)/std\n",
    "scalar = StandardScaler()\n",
    "X_scaled = scalar.fit_transform(X)"
   ]
  },
  {
   "cell_type": "code",
   "execution_count": 58,
   "metadata": {},
   "outputs": [
    {
     "data": {
      "text/html": [
       "<div>\n",
       "<style scoped>\n",
       "    .dataframe tbody tr th:only-of-type {\n",
       "        vertical-align: middle;\n",
       "    }\n",
       "\n",
       "    .dataframe tbody tr th {\n",
       "        vertical-align: top;\n",
       "    }\n",
       "\n",
       "    .dataframe thead th {\n",
       "        text-align: right;\n",
       "    }\n",
       "</style>\n",
       "<table border=\"1\" class=\"dataframe\">\n",
       "  <thead>\n",
       "    <tr style=\"text-align: right;\">\n",
       "      <th></th>\n",
       "      <th>vif</th>\n",
       "      <th>features</th>\n",
       "    </tr>\n",
       "  </thead>\n",
       "  <tbody>\n",
       "    <tr>\n",
       "      <th>0</th>\n",
       "      <td>1.047168</td>\n",
       "      <td>Airline</td>\n",
       "    </tr>\n",
       "    <tr>\n",
       "      <th>1</th>\n",
       "      <td>1.197943</td>\n",
       "      <td>Source</td>\n",
       "    </tr>\n",
       "    <tr>\n",
       "      <th>2</th>\n",
       "      <td>1.274826</td>\n",
       "      <td>Destination</td>\n",
       "    </tr>\n",
       "    <tr>\n",
       "      <th>3</th>\n",
       "      <td>1.196194</td>\n",
       "      <td>Total Stops</td>\n",
       "    </tr>\n",
       "    <tr>\n",
       "      <th>4</th>\n",
       "      <td>1.548096</td>\n",
       "      <td>Journey_Day</td>\n",
       "    </tr>\n",
       "    <tr>\n",
       "      <th>5</th>\n",
       "      <td>1.038001</td>\n",
       "      <td>Dep_hour</td>\n",
       "    </tr>\n",
       "    <tr>\n",
       "      <th>6</th>\n",
       "      <td>1.013190</td>\n",
       "      <td>Dep_min</td>\n",
       "    </tr>\n",
       "    <tr>\n",
       "      <th>7</th>\n",
       "      <td>1.016651</td>\n",
       "      <td>Arrival_min</td>\n",
       "    </tr>\n",
       "    <tr>\n",
       "      <th>8</th>\n",
       "      <td>1.208199</td>\n",
       "      <td>Duration_hours</td>\n",
       "    </tr>\n",
       "    <tr>\n",
       "      <th>9</th>\n",
       "      <td>1.034864</td>\n",
       "      <td>Duration_mins</td>\n",
       "    </tr>\n",
       "    <tr>\n",
       "      <th>10</th>\n",
       "      <td>1.034440</td>\n",
       "      <td>Arrival_Times_of_day</td>\n",
       "    </tr>\n",
       "    <tr>\n",
       "      <th>11</th>\n",
       "      <td>1.312883</td>\n",
       "      <td>Journey Month</td>\n",
       "    </tr>\n",
       "  </tbody>\n",
       "</table>\n",
       "</div>"
      ],
      "text/plain": [
       "         vif              features\n",
       "0   1.047168               Airline\n",
       "1   1.197943                Source\n",
       "2   1.274826           Destination\n",
       "3   1.196194           Total Stops\n",
       "4   1.548096           Journey_Day\n",
       "5   1.038001              Dep_hour\n",
       "6   1.013190               Dep_min\n",
       "7   1.016651           Arrival_min\n",
       "8   1.208199        Duration_hours\n",
       "9   1.034864         Duration_mins\n",
       "10  1.034440  Arrival_Times_of_day\n",
       "11  1.312883         Journey Month"
      ]
     },
     "execution_count": 58,
     "metadata": {},
     "output_type": "execute_result"
    }
   ],
   "source": [
    "from statsmodels.stats.outliers_influence import variance_inflation_factor\n",
    "vif = pd.DataFrame()\n",
    "vif[\"vif\"] = [variance_inflation_factor(X_scaled, i) for i in range (X_scaled.shape[1])]\n",
    "vif[\"features\"] = X.columns\n",
    "\n",
    "#let's check the values\n",
    "vif"
   ]
  },
  {
   "cell_type": "markdown",
   "metadata": {},
   "source": [
    "#### No Multicollinearity problem exists"
   ]
  },
  {
   "cell_type": "code",
   "execution_count": 91,
   "metadata": {},
   "outputs": [],
   "source": [
    "# Split data into train and test. Model will be built on training data and tested on test data\n",
    "x_train,x_test,y_train,y_test = train_test_split(X_scaled,y,test_size = 0.25, random_state = 42)"
   ]
  },
  {
   "cell_type": "code",
   "execution_count": 92,
   "metadata": {},
   "outputs": [
    {
     "data": {
      "text/plain": [
       "1285    9.219498\n",
       "602     9.519368\n",
       "483     9.689861\n",
       "1286    9.364520\n",
       "1009    9.802838\n",
       "Name: Price, dtype: float64"
      ]
     },
     "execution_count": 92,
     "metadata": {},
     "output_type": "execute_result"
    }
   ],
   "source": [
    "y_train.head()"
   ]
  },
  {
   "cell_type": "code",
   "execution_count": null,
   "metadata": {},
   "outputs": [],
   "source": []
  },
  {
   "cell_type": "markdown",
   "metadata": {},
   "source": [
    "## Linear Regression"
   ]
  },
  {
   "cell_type": "code",
   "execution_count": 93,
   "metadata": {},
   "outputs": [
    {
     "data": {
      "text/plain": [
       "LinearRegression()"
      ]
     },
     "execution_count": 93,
     "metadata": {},
     "output_type": "execute_result"
    }
   ],
   "source": [
    "regression = LinearRegression()\n",
    "regression.fit(x_train,y_train)"
   ]
  },
  {
   "cell_type": "code",
   "execution_count": 94,
   "metadata": {},
   "outputs": [
    {
     "data": {
      "text/plain": [
       "0.3977709722263013"
      ]
     },
     "execution_count": 94,
     "metadata": {},
     "output_type": "execute_result"
    }
   ],
   "source": [
    "# Adjusted R2 score\n",
    "regression.score(x_train,y_train)"
   ]
  },
  {
   "cell_type": "code",
   "execution_count": 95,
   "metadata": {},
   "outputs": [],
   "source": [
    "# To cross verify\n",
    "y_pred = regression.predict(x_test)"
   ]
  },
  {
   "cell_type": "code",
   "execution_count": 96,
   "metadata": {},
   "outputs": [
    {
     "data": {
      "text/plain": [
       "0.3904844364494573"
      ]
     },
     "execution_count": 96,
     "metadata": {},
     "output_type": "execute_result"
    }
   ],
   "source": [
    "r2_score(y_test,y_pred)"
   ]
  },
  {
   "cell_type": "code",
   "execution_count": 97,
   "metadata": {},
   "outputs": [
    {
     "data": {
      "image/png": "[encoded data removed]",
      "text/plain": [
       "<Figure size 432x288 with 1 Axes>"
      ]
     },
     "metadata": {
      "needs_background": "light"
     },
     "output_type": "display_data"
    }
   ],
   "source": [
    "plt.scatter(y_test,y_pred)\n",
    "plt.xlabel('Actual Price')\n",
    "plt.ylabel('Predicted Price')\n",
    "plt.title('Actual vs Model predicted')\n",
    "plt.show()"
   ]
  },
  {
   "cell_type": "code",
   "execution_count": 98,
   "metadata": {},
   "outputs": [
    {
     "data": {
      "text/plain": [
       "0.23917585268941327"
      ]
     },
     "execution_count": 98,
     "metadata": {},
     "output_type": "execute_result"
    }
   ],
   "source": [
    "mean_absolute_error(y_test,y_pred)"
   ]
  },
  {
   "cell_type": "code",
   "execution_count": 99,
   "metadata": {},
   "outputs": [
    {
     "data": {
      "text/plain": [
       "0.09714120762159414"
      ]
     },
     "execution_count": 99,
     "metadata": {},
     "output_type": "execute_result"
    }
   ],
   "source": [
    "mean_squared_error(y_test,y_pred)"
   ]
  },
  {
   "cell_type": "code",
   "execution_count": 100,
   "metadata": {},
   "outputs": [
    {
     "data": {
      "text/plain": [
       "0.31167484277944885"
      ]
     },
     "execution_count": 100,
     "metadata": {},
     "output_type": "execute_result"
    }
   ],
   "source": [
    "np.sqrt(mean_squared_error(y_test,y_pred))"
   ]
  },
  {
   "cell_type": "code",
   "execution_count": 101,
   "metadata": {},
   "outputs": [
    {
     "name": "stdout",
     "output_type": "stream",
     "text": [
      "[ 1.19564129e-01  1.74970512e-01  1.59102243e-01 -1.47076843e-04\n",
      "  3.29193160e-01]\n",
      "0.15653659330936068\n",
      "0.10589940271081685\n"
     ]
    }
   ],
   "source": [
    "# Cross Validation score to check if the model is overfitting or underfitting\n",
    "score= cross_val_score(regression,X_scaled,y,cv=5)\n",
    "print(score)\n",
    "print(score.mean())\n",
    "print(score.std())"
   ]
  },
  {
   "cell_type": "code",
   "execution_count": null,
   "metadata": {},
   "outputs": [],
   "source": []
  },
  {
   "cell_type": "markdown",
   "metadata": {},
   "source": [
    "## Using Regularization method to check whether our regression model is overfitting or not"
   ]
  },
  {
   "cell_type": "code",
   "execution_count": 102,
   "metadata": {},
   "outputs": [],
   "source": [
    "from sklearn.linear_model import Ridge,Lasso,RidgeCV,LassoCV"
   ]
  },
  {
   "cell_type": "markdown",
   "metadata": {},
   "source": [
    "### Lasso Regularization"
   ]
  },
  {
   "cell_type": "code",
   "execution_count": 103,
   "metadata": {},
   "outputs": [
    {
     "data": {
      "text/plain": [
       "LassoCV(normalize=True)"
      ]
     },
     "execution_count": 103,
     "metadata": {},
     "output_type": "execute_result"
    }
   ],
   "source": [
    "# LassoCV will return best alpha after max iteration\n",
    "# Normalize is subtracting the mean and dividingby the l2-norm\n",
    "lasscv = LassoCV(alphas = None, max_iter = 1000, normalize = True)\n",
    "lasscv.fit(x_train,y_train)"
   ]
  },
  {
   "cell_type": "code",
   "execution_count": 104,
   "metadata": {},
   "outputs": [
    {
     "data": {
      "text/plain": [
       "1.19660008888917e-05"
      ]
     },
     "execution_count": 104,
     "metadata": {},
     "output_type": "execute_result"
    }
   ],
   "source": [
    "# best alpha parameter\n",
    "alpha = lasscv.alpha_\n",
    "alpha"
   ]
  },
  {
   "cell_type": "code",
   "execution_count": 105,
   "metadata": {},
   "outputs": [
    {
     "data": {
      "text/plain": [
       "Lasso(alpha=1.19660008888917e-05)"
      ]
     },
     "execution_count": 105,
     "metadata": {},
     "output_type": "execute_result"
    }
   ],
   "source": [
    "# now that we have best parameter, lets use Lasso regression and see how well our data has fitted before\n",
    "lasso_reg = Lasso(alpha)\n",
    "lasso_reg.fit(x_train,y_train)"
   ]
  },
  {
   "cell_type": "code",
   "execution_count": 106,
   "metadata": {},
   "outputs": [
    {
     "data": {
      "text/plain": [
       "0.39049714890472176"
      ]
     },
     "execution_count": 106,
     "metadata": {},
     "output_type": "execute_result"
    }
   ],
   "source": [
    "lasso_reg.score(x_test,y_test)"
   ]
  },
  {
   "cell_type": "code",
   "execution_count": null,
   "metadata": {},
   "outputs": [],
   "source": []
  },
  {
   "cell_type": "markdown",
   "metadata": {},
   "source": [
    "### Using Ridge regression model"
   ]
  },
  {
   "cell_type": "code",
   "execution_count": 107,
   "metadata": {},
   "outputs": [
    {
     "data": {
      "text/plain": [
       "RidgeCV(alphas=array([0.001, 0.011, 0.021, 0.031, 0.041, 0.051, 0.061, 0.071, 0.081,\n",
       "       0.091]),\n",
       "        normalize=True)"
      ]
     },
     "execution_count": 107,
     "metadata": {},
     "output_type": "execute_result"
    }
   ],
   "source": [
    "# RidgeCV will return best alpha and coefficients after performing 10 cross validations.\n",
    "ridgecv = RidgeCV(alphas = np.arange(0.001,0.1,0.01),normalize = True)\n",
    "ridgecv.fit(x_train,y_train)"
   ]
  },
  {
   "cell_type": "code",
   "execution_count": 108,
   "metadata": {},
   "outputs": [
    {
     "data": {
      "text/plain": [
       "0.011"
      ]
     },
     "execution_count": 108,
     "metadata": {},
     "output_type": "execute_result"
    }
   ],
   "source": [
    "ridgecv.alpha_"
   ]
  },
  {
   "cell_type": "code",
   "execution_count": 109,
   "metadata": {},
   "outputs": [
    {
     "data": {
      "text/plain": [
       "Ridge(alpha=0.011)"
      ]
     },
     "execution_count": 109,
     "metadata": {},
     "output_type": "execute_result"
    }
   ],
   "source": [
    "ridge_model = Ridge(alpha=ridgecv.alpha_)\n",
    "ridge_model.fit(x_train,y_train)"
   ]
  },
  {
   "cell_type": "code",
   "execution_count": 110,
   "metadata": {},
   "outputs": [
    {
     "data": {
      "text/plain": [
       "0.3904846727571981"
      ]
     },
     "execution_count": 110,
     "metadata": {},
     "output_type": "execute_result"
    }
   ],
   "source": [
    "ridge_model.score(x_test,y_test)"
   ]
  },
  {
   "cell_type": "markdown",
   "metadata": {},
   "source": [
    "#### So we can see by using different type of regularization,we still are getting almost same r2 score. That means our linear regression model has been well trained over the training data and there is no overfitting."
   ]
  },
  {
   "cell_type": "code",
   "execution_count": null,
   "metadata": {},
   "outputs": [],
   "source": []
  },
  {
   "cell_type": "markdown",
   "metadata": {},
   "source": [
    "## Decision Tree Regressor"
   ]
  },
  {
   "cell_type": "code",
   "execution_count": 111,
   "metadata": {},
   "outputs": [
    {
     "name": "stdout",
     "output_type": "stream",
     "text": [
      "\n",
      "===================Train Result======================\n",
      "Accuracy Score: 99.95%\n",
      "______________________________________________\n",
      "\n",
      "===================Test Result======================\n",
      "Accuracy Score: 39.53%\n",
      "______________________________________________\n"
     ]
    }
   ],
   "source": [
    "dt_reg = DecisionTreeRegressor()\n",
    "dt_reg.fit(x_train,y_train)\n",
    "\n",
    "print(\"\\n===================Train Result======================\")\n",
    "\n",
    "print(f\"Accuracy Score: {dt_reg.score(x_train,y_train) * 100:.2f}%\")\n",
    "print(\"______________________________________________\")\n",
    "\n",
    "#*********************** Test Score *************************\n",
    "\n",
    "y_pred = dt_reg.predict(x_test)\n",
    "print(\"\\n===================Test Result======================\")\n",
    "print(f\"Accuracy Score: {dt_reg.score(x_test,y_test) * 100:.2f}%\")\n",
    "print(\"______________________________________________\")"
   ]
  },
  {
   "cell_type": "code",
   "execution_count": 112,
   "metadata": {},
   "outputs": [
    {
     "name": "stdout",
     "output_type": "stream",
     "text": [
      "[-0.86308696 -0.5923403  -1.0714415  -1.18926873 -0.07787534]\n",
      "-0.758802565064294\n",
      "0.39630569699335005\n"
     ]
    }
   ],
   "source": [
    "# Cross Validation score to check if the model is overfitting or underfitting\n",
    "score= cross_val_score(dt_reg,X_scaled,y,cv=5)\n",
    "print(score)\n",
    "print(score.mean())\n",
    "print(score.std())"
   ]
  },
  {
   "cell_type": "code",
   "execution_count": null,
   "metadata": {},
   "outputs": [],
   "source": []
  },
  {
   "cell_type": "markdown",
   "metadata": {},
   "source": [
    "## Random Forest Regressor"
   ]
  },
  {
   "cell_type": "code",
   "execution_count": 113,
   "metadata": {},
   "outputs": [
    {
     "name": "stdout",
     "output_type": "stream",
     "text": [
      "\n",
      "===================Train Result======================\n",
      "Accuracy Score: 95.11%\n",
      "______________________________________________\n",
      "\n",
      "===================Test Result======================\n",
      "Accuracy Score: 68.96%\n",
      "______________________________________________\n"
     ]
    }
   ],
   "source": [
    "rand_reg = RandomForestRegressor(n_estimators = 100,random_state=51)\n",
    "rand_reg.fit(x_train,y_train)\n",
    "\n",
    "print(\"\\n===================Train Result======================\")\n",
    "\n",
    "print(f\"Accuracy Score: {rand_reg.score(x_train,y_train) * 100:.2f}%\")\n",
    "print(\"______________________________________________\")\n",
    "\n",
    "#*********************** Test Score *************************\n",
    "\n",
    "y_pred = rand_reg.predict(x_test)\n",
    "print(\"\\n===================Test Result======================\")\n",
    "print(f\"Accuracy Score: {rand_reg.score(x_test,y_test) * 100:.2f}%\")\n",
    "print(\"______________________________________________\")"
   ]
  },
  {
   "cell_type": "code",
   "execution_count": 114,
   "metadata": {},
   "outputs": [
    {
     "name": "stdout",
     "output_type": "stream",
     "text": [
      "[-0.33042593  0.20671447 -0.26973551 -0.36015241  0.28336856]\n",
      "-0.09404616688341405\n",
      "0.2794471342471171\n"
     ]
    }
   ],
   "source": [
    "# Cross Validation score to check if the model is overfitting or underfitting\n",
    "score= cross_val_score(rand_reg,X_scaled,y,cv=5)\n",
    "print(score)\n",
    "print(score.mean())\n",
    "print(score.std())"
   ]
  },
  {
   "cell_type": "code",
   "execution_count": null,
   "metadata": {},
   "outputs": [],
   "source": []
  },
  {
   "cell_type": "markdown",
   "metadata": {},
   "source": [
    "## KNN Regressor"
   ]
  },
  {
   "cell_type": "code",
   "execution_count": 115,
   "metadata": {},
   "outputs": [
    {
     "name": "stdout",
     "output_type": "stream",
     "text": [
      "\n",
      "===================Train Result======================\n",
      "Accuracy Score: 71.69%\n",
      "______________________________________________\n",
      "\n",
      "===================Test Result======================\n",
      "Accuracy Score: 46.29%\n",
      "______________________________________________\n"
     ]
    }
   ],
   "source": [
    "knn=KNeighborsRegressor(n_neighbors=3)\n",
    "knn.fit(x_train,y_train)\n",
    "\n",
    "print(\"\\n===================Train Result======================\")\n",
    "\n",
    "print(f\"Accuracy Score: {knn.score(x_train,y_train) * 100:.2f}%\")\n",
    "print(\"______________________________________________\")\n",
    "\n",
    "#*********************** Test Score *************************\n",
    "\n",
    "y_pred = knn.predict(x_test)\n",
    "print(\"\\n===================Test Result======================\")\n",
    "print(f\"Accuracy Score: {knn.score(x_test,y_test) * 100:.2f}%\")\n",
    "print(\"______________________________________________\")"
   ]
  },
  {
   "cell_type": "code",
   "execution_count": 116,
   "metadata": {},
   "outputs": [
    {
     "name": "stdout",
     "output_type": "stream",
     "text": [
      "[ 0.24444226 -0.19655631 -0.60951529 -1.35879754 -0.03155223]\n",
      "-0.3903958227196737\n",
      "0.557705497703838\n"
     ]
    }
   ],
   "source": [
    "# Cross Validation score to check if the model is overfitting or underfitting\n",
    "score= cross_val_score(knn,X_scaled,y,cv=5)\n",
    "print(score)\n",
    "print(score.mean())\n",
    "print(score.std())"
   ]
  },
  {
   "cell_type": "code",
   "execution_count": null,
   "metadata": {},
   "outputs": [],
   "source": []
  },
  {
   "cell_type": "markdown",
   "metadata": {},
   "source": [
    "## Gradient Boosting Regressor"
   ]
  },
  {
   "cell_type": "code",
   "execution_count": 117,
   "metadata": {},
   "outputs": [
    {
     "name": "stdout",
     "output_type": "stream",
     "text": [
      "\n",
      "===================Train Result======================\n",
      "Accuracy Score: 71.02%\n",
      "______________________________________________\n",
      "\n",
      "===================Test Result======================\n",
      "Accuracy Score: 64.02%\n",
      "______________________________________________\n"
     ]
    }
   ],
   "source": [
    "from sklearn.ensemble import GradientBoostingRegressor\n",
    "np.random.seed(42)\n",
    "gbr = GradientBoostingRegressor()\n",
    "gbr.fit(x_train, y_train)\n",
    "\n",
    "print(\"\\n===================Train Result======================\")\n",
    "\n",
    "print(f\"Accuracy Score: {gbr.score(x_train,y_train) * 100:.2f}%\")\n",
    "print(\"______________________________________________\")\n",
    "\n",
    "#*********************** Test Score *************************\n",
    "\n",
    "y_pred = gbr.predict(x_test)\n",
    "print(\"\\n===================Test Result======================\")\n",
    "print(f\"Accuracy Score: {gbr.score(x_test,y_test) * 100:.2f}%\")\n",
    "print(\"______________________________________________\")"
   ]
  },
  {
   "cell_type": "code",
   "execution_count": 118,
   "metadata": {},
   "outputs": [
    {
     "name": "stdout",
     "output_type": "stream",
     "text": [
      "[-0.23840328  0.07106251  0.13744523 -0.12528852  0.16024673]\n",
      "0.0010125340023093843\n",
      "0.1562998998619208\n"
     ]
    }
   ],
   "source": [
    "# Cross Validation score to check if the model is overfitting or underfitting\n",
    "score= cross_val_score(gbr,X_scaled,y,cv=5)\n",
    "print(score)\n",
    "print(score.mean())\n",
    "print(score.std())"
   ]
  },
  {
   "cell_type": "code",
   "execution_count": null,
   "metadata": {},
   "outputs": [],
   "source": []
  },
  {
   "cell_type": "markdown",
   "metadata": {},
   "source": [
    "## XGBRegressor"
   ]
  },
  {
   "cell_type": "code",
   "execution_count": 119,
   "metadata": {},
   "outputs": [
    {
     "name": "stdout",
     "output_type": "stream",
     "text": [
      "\n",
      "===================Train Result======================\n",
      "Accuracy Score: 99.66%\n",
      "______________________________________________\n",
      "\n",
      "===================Test Result======================\n",
      "Accuracy Score: 65.65%\n",
      "______________________________________________\n"
     ]
    }
   ],
   "source": [
    "from xgboost.sklearn import XGBRegressor\n",
    "np.random.seed(42)\n",
    "xgb = XGBRegressor()\n",
    "xgb.fit(x_train, y_train)\n",
    "\n",
    "print(\"\\n===================Train Result======================\")\n",
    "\n",
    "print(f\"Accuracy Score: {xgb.score(x_train,y_train) * 100:.2f}%\")\n",
    "print(\"______________________________________________\")\n",
    "\n",
    "#*********************** Test Score *************************\n",
    "\n",
    "y_pred = xgb.predict(x_test)\n",
    "print(\"\\n===================Test Result======================\")\n",
    "print(f\"Accuracy Score: {xgb.score(x_test,y_test) * 100:.2f}%\")\n",
    "print(\"______________________________________________\")"
   ]
  },
  {
   "cell_type": "code",
   "execution_count": 120,
   "metadata": {},
   "outputs": [
    {
     "name": "stdout",
     "output_type": "stream",
     "text": [
      "[-0.36819178 -0.03803846 -0.1130724  -0.17466614  0.02817188]\n",
      "-0.1331593811528067\n",
      "0.13597226827124106\n"
     ]
    }
   ],
   "source": [
    "# Cross Validation score to check if the model is overfitting or underfitting\n",
    "score= cross_val_score(xgb,X_scaled,y,cv=5)\n",
    "print(score)\n",
    "print(score.mean())\n",
    "print(score.std())"
   ]
  },
  {
   "cell_type": "code",
   "execution_count": null,
   "metadata": {},
   "outputs": [],
   "source": []
  },
  {
   "cell_type": "code",
   "execution_count": 122,
   "metadata": {},
   "outputs": [
    {
     "data": {
      "text/html": [
       "<div>\n",
       "<style scoped>\n",
       "    .dataframe tbody tr th:only-of-type {\n",
       "        vertical-align: middle;\n",
       "    }\n",
       "\n",
       "    .dataframe tbody tr th {\n",
       "        vertical-align: top;\n",
       "    }\n",
       "\n",
       "    .dataframe thead th {\n",
       "        text-align: right;\n",
       "    }\n",
       "</style>\n",
       "<table border=\"1\" class=\"dataframe\">\n",
       "  <thead>\n",
       "    <tr style=\"text-align: right;\">\n",
       "      <th></th>\n",
       "      <th>Model</th>\n",
       "      <th>Accuracy</th>\n",
       "      <th>Cross Validation score</th>\n",
       "    </tr>\n",
       "  </thead>\n",
       "  <tbody>\n",
       "    <tr>\n",
       "      <th>0</th>\n",
       "      <td>Linear Regression</td>\n",
       "      <td>39.04</td>\n",
       "      <td>32.91</td>\n",
       "    </tr>\n",
       "    <tr>\n",
       "      <th>1</th>\n",
       "      <td>Decision Tree</td>\n",
       "      <td>39.53</td>\n",
       "      <td>-75.88</td>\n",
       "    </tr>\n",
       "    <tr>\n",
       "      <th>2</th>\n",
       "      <td>Random Forest</td>\n",
       "      <td>68.96</td>\n",
       "      <td>-9.40</td>\n",
       "    </tr>\n",
       "    <tr>\n",
       "      <th>3</th>\n",
       "      <td>KNN</td>\n",
       "      <td>46.29</td>\n",
       "      <td>-39.03</td>\n",
       "    </tr>\n",
       "    <tr>\n",
       "      <th>4</th>\n",
       "      <td>Gradient</td>\n",
       "      <td>64.02</td>\n",
       "      <td>0.10</td>\n",
       "    </tr>\n",
       "    <tr>\n",
       "      <th>5</th>\n",
       "      <td>XGBoost</td>\n",
       "      <td>65.65</td>\n",
       "      <td>-13.31</td>\n",
       "    </tr>\n",
       "  </tbody>\n",
       "</table>\n",
       "</div>"
      ],
      "text/plain": [
       "               Model  Accuracy  Cross Validation score\n",
       "0  Linear Regression     39.04                   32.91\n",
       "1      Decision Tree     39.53                  -75.88\n",
       "2      Random Forest     68.96                   -9.40\n",
       "3                KNN     46.29                  -39.03\n",
       "4           Gradient     64.02                    0.10\n",
       "5            XGBoost     65.65                  -13.31"
      ]
     },
     "execution_count": 122,
     "metadata": {},
     "output_type": "execute_result"
    }
   ],
   "source": [
    "accuracy =[39.04,39.53,68.96,46.29,64.02,65.65]\n",
    "cross_val_score=[32.91,-75.88,-9.4,-39.03,0.10,-13.31]\n",
    "\n",
    "model=['Linear Regression','Decision Tree','Random Forest','KNN','Gradient','XGBoost']\n",
    "best_model=pd.DataFrame({'Model':model,'Accuracy':accuracy,'Cross Validation score':cross_val_score})\n",
    "best_model"
   ]
  },
  {
   "cell_type": "code",
   "execution_count": null,
   "metadata": {},
   "outputs": [],
   "source": [
    "# Gradient Boosting Regressor is our best model because difference between accuracy and CV score is least than other models."
   ]
  },
  {
   "cell_type": "markdown",
   "metadata": {},
   "source": [
    "### Using GridSearchCV for hyper parameter tuning on best model (Gradient Boosting Regressor)"
   ]
  },
  {
   "cell_type": "code",
   "execution_count": 123,
   "metadata": {},
   "outputs": [],
   "source": [
    "# we are tuning three hyperparameters right now, we are passing different values for both parameters\n",
    "grid_param = {\n",
    "    'max_depth' : range(2,20,3),              \n",
    "    'min_samples_leaf' : range (1,20,2),\n",
    "    'min_samples_split' : range (2,20,2)\n",
    "}"
   ]
  },
  {
   "cell_type": "code",
   "execution_count": 124,
   "metadata": {},
   "outputs": [],
   "source": [
    "grid_search = GridSearchCV(estimator=gbr,\n",
    "                          param_grid=grid_param,\n",
    "                          cv=3,\n",
    "                          n_jobs =-1)"
   ]
  },
  {
   "cell_type": "code",
   "execution_count": 125,
   "metadata": {},
   "outputs": [
    {
     "data": {
      "text/plain": [
       "GridSearchCV(cv=3, estimator=GradientBoostingRegressor(), n_jobs=-1,\n",
       "             param_grid={'max_depth': range(2, 20, 3),\n",
       "                         'min_samples_leaf': range(1, 20, 2),\n",
       "                         'min_samples_split': range(2, 20, 2)})"
      ]
     },
     "execution_count": 125,
     "metadata": {},
     "output_type": "execute_result"
    }
   ],
   "source": [
    "grid_search.fit(x_train,y_train)"
   ]
  },
  {
   "cell_type": "code",
   "execution_count": 126,
   "metadata": {},
   "outputs": [
    {
     "name": "stdout",
     "output_type": "stream",
     "text": [
      "{'max_depth': 8, 'min_samples_leaf': 17, 'min_samples_split': 2}\n"
     ]
    }
   ],
   "source": [
    "best_parameters = grid_search.best_params_\n",
    "print(best_parameters)"
   ]
  },
  {
   "cell_type": "code",
   "execution_count": 127,
   "metadata": {},
   "outputs": [
    {
     "data": {
      "text/plain": [
       "GradientBoostingRegressor(max_depth=8, min_samples_leaf=17)"
      ]
     },
     "execution_count": 127,
     "metadata": {},
     "output_type": "execute_result"
    }
   ],
   "source": [
    "gbr = GradientBoostingRegressor(max_depth =8, min_samples_leaf=17, min_samples_split=2)\n",
    "gbr.fit(x_train,y_train)"
   ]
  },
  {
   "cell_type": "code",
   "execution_count": 128,
   "metadata": {},
   "outputs": [
    {
     "data": {
      "text/plain": [
       "0.6875735676477248"
      ]
     },
     "execution_count": 128,
     "metadata": {},
     "output_type": "execute_result"
    }
   ],
   "source": [
    "gbr.score(x_test,y_test)"
   ]
  },
  {
   "cell_type": "code",
   "execution_count": 129,
   "metadata": {},
   "outputs": [],
   "source": [
    "# After applying hyper parameter tuning accuracy increased by 4.73%."
   ]
  },
  {
   "cell_type": "markdown",
   "metadata": {},
   "source": [
    "### Model Saving"
   ]
  },
  {
   "cell_type": "code",
   "execution_count": 130,
   "metadata": {},
   "outputs": [],
   "source": [
    "# saving the model to local system\n",
    "filename = 'Flight_Price_Prediction.pickle'\n",
    "pickle.dump(gbr,open(filename,'wb'))"
   ]
  },
  {
   "cell_type": "code",
   "execution_count": 131,
   "metadata": {},
   "outputs": [],
   "source": [
    "# Model has been saved successfully. Let's check by predicting with the loaded model."
   ]
  },
  {
   "cell_type": "markdown",
   "metadata": {},
   "source": [
    "### Loading and predicting with the loaded model"
   ]
  },
  {
   "cell_type": "code",
   "execution_count": 132,
   "metadata": {},
   "outputs": [],
   "source": [
    "# loading the saved model\n",
    "loaded_model = pickle.load(open(filename,'rb'))"
   ]
  },
  {
   "cell_type": "code",
   "execution_count": 133,
   "metadata": {},
   "outputs": [],
   "source": [
    "# predicting with the loaded model\n",
    "predictions = loaded_model.predict(x_test)"
   ]
  },
  {
   "cell_type": "code",
   "execution_count": null,
   "metadata": {},
   "outputs": [],
   "source": []
  }
 ],
 "metadata": {
  "kernelspec": {
   "display_name": "Python 3",
   "language": "python",
   "name": "python3"
  },
  "language_info": {
   "codemirror_mode": {
    "name": "ipython",
    "version": 3
   },
   "file_extension": ".py",
   "mimetype": "text/x-python",
   "name": "python",
   "nbconvert_exporter": "python",
   "pygments_lexer": "ipython3",
   "version": "3.8.5"
  }
 },
 "nbformat": 4,
 "nbformat_minor": 4
}
